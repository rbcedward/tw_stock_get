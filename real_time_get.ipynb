{
 "cells": [
  {
   "cell_type": "markdown",
   "metadata": {},
   "source": [
    套件匯入
   ]
  },
  {
   "cell_type": "code",
   "execution_count": 1,
   "metadata": {},
   "outputs": [
    {
     "name": "stderr",
     "output_type": "stream",
     "text": [
      "C:\\Anaconda3\\envs\\Py37\\lib\\site-packages\\numpy\\_distributor_init.py:32: UserWarning: loaded more than 1 DLL from .libs:\n",
      "C:\\Anaconda3\\envs\\Py37\\lib\\site-packages\\numpy\\.libs\\libopenblas.WCDJNK7YVMPZQ2ME2ZZHJJRJ3JIKNDB7.gfortran-win_amd64.dll\n",
      "C:\\Anaconda3\\envs\\Py37\\lib\\site-packages\\numpy\\.libs\\libopenblas.XWYDX2IKJW2NMTWSFYNGFUWKQU3LYTCZ.gfortran-win_amd64.dll\n",
      "  stacklevel=1)\n"
     ]
    }
   ],
   "source": [
    "\n",
    "from IPython.display import display, clear_output\n",
    "from urllib.request import urlopen\n",
    "import numpy as np\n",
    "import pandas as pd\n",
    "import matplotlib.pyplot as plt\n",
    "import datetime\n",
    "import requests\n",
    "import sched\n",
    "import time\n",
    "import json\n",
    "import twstock\n",
    "import FinMind\n",
    "from FinMind.data import DataLoader\n",
    "from FinMind import plotting\n",
    "#Data Source\n",
    "import yfinance as yf\n",
    "\n",
    "#Data viz\n",
    "import plotly.graph_objs as go\n",
    "\n",
    "\n",
    "import pyodbc\n",
    "\n",
    "import schedule\n",
    "import sys\n",
    "\n"
   ]
  },
  {
   "cell_type": "code",
   "execution_count": 2,
   "metadata": {},
   "outputs": [],
   "source": [
    "def stock_realtime_fn(targets):\n",
    "    #today date \n",
    "    time = datetime.datetime.now().date()\n",
    "\n",
    "    #stock_list\n",
    "    stock_list = '|'.join('tse_{}.tw'.format(target) for target in targets) \n",
    "\n",
    "    #　query data\n",
    "    query_url = \"http://mis.twse.com.tw/stock/api/getStockInfo.jsp?ex_ch=\"+ stock_list\n",
    "    data = json.loads(urlopen(query_url).read())\n",
    "#\n",
    "    # get data\n",
    "    columns = ['t','c','n','z','tv','v','o','h','l','y']\n",
    "    df = pd.DataFrame(data['msgArray'], columns=columns)\n",
    "    df0 = pd.DataFrame(data['msgArray'], columns=['f','g','b','a'])\n",
    "    df1 = pd.DataFrame({\n",
    "        'bid_volumn':df0['f'].str.split('_', expand=True)[0],\n",
    "        'ask_volumn':df0['g'].str.split('_', expand=True)[0],     \n",
    "        'bid_price':df0['b'].str.split('_', expand=True)[0],\n",
    "        'ask_price':df0['a'].str.split('_', expand=True)[0],\n",
    "        'bid_volumn1':df0['f'].str.split('_', expand=True)[1],\n",
    "        'ask_volumn1':df0['g'].str.split('_', expand=True)[1],     \n",
    "        'bid_price1':df0['b'].str.split('_', expand=True)[1],\n",
    "        'ask_price1':df0['a'].str.split('_', expand=True)[1]  \n",
    "                 })\n",
    "    df.columns = ['curr_time','tickers','namec','current_price','current_volumn','acc_volumn','s_open','hight','low','y_close']\n",
    "    df = pd.concat([df, df1], axis=1)\n",
    "    df = df[df['current_price']!='-']\n",
    "    for i in ['current_price','s_open','hight','low','y_close','bid_price','ask_price','bid_price1','ask_price1']:\n",
    "        df[i] = df[i].apply(lambda x: round(float(x),2))\n",
    "    for i in ['current_volumn','acc_volumn', 'bid_volumn','ask_volumn', 'bid_volumn1','ask_volumn1']:\n",
    "        df[i] = df[i].apply(lambda x: int(x))\n",
    "    # 增加時間\n",
    "    df['date'] = time\n",
    "    # 紀錄更新時間\n",
    "    time0 = datetime.datetime.now()\n",
    "    #print(df)\n",
    "    return df\n",
    "#stock_realtime_fn(targets = ['2454','2330']).columns"
   ]
  },
  {
   "cell_type": "code",
   "execution_count": 3,
   "metadata": {},
   "outputs": [],
   "source": [
    "def get_stock_exec(data_table_name,st_list= ['2454','2330']):\n",
    "    data = stock_realtime_fn(st_list)\n",
    "    # connection    \n",
    "    server = '------' \n",
    "    database = 'stock_historical_all' \n",
    "    username = '------' \n",
    "    password = '------' \n",
    "    cnxn = pyodbc.connect('DRIVER={SQL Server};SERVER='+server+';DATABASE='+database+';UID='+username+';PWD='+ password)\n",
    "    # create table\n",
    "    index = True\n",
    "    if index == True :\n",
    "        index = False\n",
    "        sql = \"IF NOT EXISTS (SELECT * FROM sysobjects WHERE name='\"+data_table_name +\"' AND xtype='U')\"+'CREATE TABLE '+data_table_name+''' ( \n",
    "                    date nvarchar(16),\n",
    "                    curr_time nvarchar(10), \n",
    "                    tickers nvarchar(10), \n",
    "                    name nvarchar(10), \n",
    "                    current_price NUMERIC(10,2), \n",
    "                    current_volumn int,\n",
    "                    bid_volumn int,\n",
    "                    ask_volumn int, \n",
    "                    bid_price NUMERIC(10,2), \n",
    "                    ask_price NUMERIC(10,2), \n",
    "                    bid_volumn1 int, \n",
    "                    ask_volumn1 int,\n",
    "                    bid_price1 NUMERIC(10,2), \n",
    "                    ask_price1 NUMERIC(10,2),\n",
    "                    acc_volumn int, \n",
    "                    s_open NUMERIC(10,2), \n",
    "                    hight NUMERIC(10,2), \n",
    "                    low NUMERIC(10,2), \n",
    "                    y_close NUMERIC(10,2)\n",
    "                    )\n",
    "        '''\n",
    "        # excute1\n",
    "        cursor = cnxn.cursor()\n",
    "        cursor.execute(sql)\n",
    "        cnxn.commit()\n",
    "        \n",
    "    cursor = cnxn.cursor()\n",
    "    # Insert Dataframe into SQL Server:\n",
    "    sql = \"INSERT INTO \" +data_table_name +'''\n",
    "     (date, curr_time, tickers, name, current_price, current_volumn, \n",
    "     bid_volumn, ask_volumn, bid_price, ask_price, \n",
    "     acc_volumn, s_open, hight, low, y_close) values(?,?,?,?,?,?\n",
    "     ,?,?,?,?\n",
    "     ,?,?,?,?,?) \n",
    "    '''\n",
    "     \n",
    "    for index, row in data.iterrows():\n",
    "         cursor.execute(sql,\n",
    "                        str(row.date), row.curr_time, row.tickers,row.namec, row.current_price, row.current_volumn, \n",
    "                        row.bid_volumn, row.ask_volumn , row.bid_price, row.ask_price,\n",
    "                        row.acc_volumn, row.s_open,  row.hight,  row.low,  \n",
    "                        row.y_close)        \n",
    "\n",
    "    cnxn.commit()\n",
    "    cursor.close()\n",
    "    \n",
    "def exit():\n",
    "    print('Now the system will exit ') \n",
    "    sys.exit()\n",
    "\n"
   ]
  },
  {
   "cell_type": "code",
   "execution_count": 9,
   "metadata": {},
   "outputs": [
    {
     "name": "stdout",
     "output_type": "stream",
     "text": [
    
      "Now the system will exit \n"
     ]
    },
    {
     "ename": "SystemExit",
     "evalue": "",
     "output_type": "error",
     "traceback": [
      "An exception has occurred, use %tb to see the full traceback.\n",
      "\u001b[1;31mSystemExit\u001b[0m\n"
     ]
    }
   ],
   "source": [
    "schedule.every(2).seconds.do(get_stock_exec,data_table_name='stock_realtime_v2',st_list= ['2454','2330'])   \n",
    "schedule.every().day.at('13:31:00').do(exit)\n",
    "\n",
    "while True:\n",
    "    schedule.run_pending()"
   ]
  },
  {
   "cell_type": "code",
   "execution_count": 8,
   "metadata": {},
   "outputs": [],
   "source": [
    "schedule.clear()"
   ]
  },
  {
   "cell_type": "code",
   "execution_count": null,
   "metadata": {},
   "outputs": [],
   "source": []
  }
 ],
 "metadata": {
  "kernelspec": {
   "display_name": "Python 3",
   "language": "python",
   "name": "python3"
  },
  "language_info": {
   "codemirror_mode": {
    "name": "ipython",
    "version": 3
   },
   "file_extension": ".py",
   "mimetype": "text/x-python",
   "name": "python",
   "nbconvert_exporter": "python",
   "pygments_lexer": "ipython3",
   "version": "3.7.0"
  },
  "toc": {
   "base_numbering": 1,
   "nav_menu": {},
   "number_sections": true,
   "sideBar": true,
   "skip_h1_title": false,
   "title_cell": "Table of Contents",
   "title_sidebar": "Contents",
   "toc_cell": false,
   "toc_position": {},
   "toc_section_display": true,
   "toc_window_display": false
  }
 },
 "nbformat": 4,
 "nbformat_minor": 2
}
